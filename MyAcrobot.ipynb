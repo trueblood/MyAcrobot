{
 "cells": [
  {
   "cell_type": "markdown",
   "metadata": {},
   "source": [
    "# MyAcrobot\n",
    "my custom acrobot rl model for learning, this will have an extended custom environment"
   ]
  },
  {
   "cell_type": "markdown",
   "metadata": {},
   "source": [
    "### Create my virutal environment\n",
    "\n",
    "#\n",
    "\n",
    "pip install virtualenv\n",
    "virtualenv myenv\n",
    "source myenv/bin/activate\n",
    "pip install numpy pandas matplotlib\n",
    "pip install ipykernel\n",
    "python -m ipykernel install --user --name=myenv --display-name \"Python (myenv)\"\n",
    "\n",
    "\n",
    "\n",
    "pip install virtualenv virtualenv myenv source myenv/bin/activate pip install numpy pandas matplotlib pip install ipykernel python -m ipykernel install --user --name=myenv --display-name \"Python (myenv)\" "
   ]
  }
 ],
 "metadata": {
  "language_info": {
   "name": "python"
  }
 },
 "nbformat": 4,
 "nbformat_minor": 2
}
